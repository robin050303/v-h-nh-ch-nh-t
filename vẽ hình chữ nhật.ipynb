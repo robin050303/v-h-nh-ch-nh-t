{
 "cells": [
  {
   "cell_type": "code",
   "execution_count": 1,
   "id": "3972a28f",
   "metadata": {},
   "outputs": [
    {
     "data": {
      "text/plain": [
       "<function turtle.mainloop()>"
      ]
     },
     "execution_count": 1,
     "metadata": {},
     "output_type": "execute_result"
    }
   ],
   "source": [
    "import turtle\n",
    "pen = turtle.Turtle()\n",
    "turtle.fd(100)\n",
    "turtle.lt(90)\n",
    "turtle.fd(75)\n",
    "turtle.lt(90)\n",
    "turtle.fd(100)\n",
    "turtle.lt(90)\n",
    "turtle.fd(75)\n",
    "turtle.lt(90)\n",
    "turtle.done\n"
   ]
  },
  {
   "cell_type": "code",
   "execution_count": null,
   "id": "11ece604",
   "metadata": {},
   "outputs": [],
   "source": []
  }
 ],
 "metadata": {
  "kernelspec": {
   "display_name": "Python 3 (ipykernel)",
   "language": "python",
   "name": "python3"
  },
  "language_info": {
   "codemirror_mode": {
    "name": "ipython",
    "version": 3
   },
   "file_extension": ".py",
   "mimetype": "text/x-python",
   "name": "python",
   "nbconvert_exporter": "python",
   "pygments_lexer": "ipython3",
   "version": "3.9.5"
  }
 },
 "nbformat": 4,
 "nbformat_minor": 5
}
